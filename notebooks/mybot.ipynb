{
 "cells": [
  {
   "cell_type": "code",
   "execution_count": 27,
   "metadata": {
    "collapsed": true
   },
   "outputs": [],
   "source": [
    "x_commands = [\n",
    "    'cluster status report',\n",
    "    'tell me something funny',\n",
    "    'give me a link to jenkins',\n",
    "    'health check'\n",
    "]\n",
    "y_category = [\n",
    "    'info',\n",
    "    'joke',\n",
    "    'info',\n",
    "    'test'\n",
    "]\n",
    "y_target = range(4)\n",
    "\n",
    "from sklearn.feature_extraction.text import CountVectorizer\n",
    "count_vect = CountVectorizer()\n",
    "k8s_access_counts = count_vect.fit_transform(x_commands)"
   ]
  },
  {
   "cell_type": "code",
   "execution_count": 24,
   "metadata": {
    "scrolled": false
   },
   "outputs": [
    {
     "name": "stdout",
     "output_type": "stream",
     "text": [
      "{u'status': 10, u'me': 7, u'funny': 2, u'give': 3, u'tell': 11, u'cluster': 1, u'to': 12, u'health': 4, u'something': 9, u'jenkins': 5, u'report': 8, u'link': 6, u'check': 0}\n"
     ]
    }
   ],
   "source": [
    "print count_vect.vocabulary_"
   ]
  },
  {
   "cell_type": "code",
   "execution_count": 19,
   "metadata": {
    "collapsed": true
   },
   "outputs": [],
   "source": [
    "from sklearn.feature_extraction.text import TfidfTransformer\n",
    "tfidf_transformer = TfidfTransformer()\n",
    "k8s_access_counts_tfidf = tfidf_transformer.fit_transform(k8s_access_counts)"
   ]
  },
  {
   "cell_type": "code",
   "execution_count": 25,
   "metadata": {
    "scrolled": true
   },
   "outputs": [
    {
     "name": "stdout",
     "output_type": "stream",
     "text": [
      "  (0, 1)\t0.57735026919\n",
      "  (0, 10)\t0.57735026919\n",
      "  (0, 8)\t0.57735026919\n",
      "  (1, 11)\t0.525472749264\n",
      "  (1, 7)\t0.414288751166\n",
      "  (1, 9)\t0.525472749264\n",
      "  (1, 2)\t0.525472749264\n",
      "  (2, 7)\t0.366739011297\n",
      "  (2, 3)\t0.465161933522\n",
      "  (2, 6)\t0.465161933522\n",
      "  (2, 12)\t0.465161933522\n",
      "  (2, 5)\t0.465161933522\n",
      "  (3, 4)\t0.707106781187\n",
      "  (3, 0)\t0.707106781187\n"
     ]
    }
   ],
   "source": [
    "print k8s_access_counts_tfidf"
   ]
  },
  {
   "cell_type": "code",
   "execution_count": 28,
   "metadata": {},
   "outputs": [],
   "source": [
    "from sklearn.naive_bayes import MultinomialNB\n",
    "clf = MultinomialNB().fit(k8s_access_counts_tfidf, y_target)"
   ]
  },
  {
   "cell_type": "code",
   "execution_count": 41,
   "metadata": {},
   "outputs": [
    {
     "data": {
      "text/plain": [
       "numpy.ndarray"
      ]
     },
     "execution_count": 41,
     "metadata": {},
     "output_type": "execute_result"
    }
   ],
   "source": [
    "q = [\"funny\"]\n",
    "tq = count_vect.transform(q)\n",
    "ttq = tfidf_transformer.transform(tq)\n",
    "predicted = clf.predict(ttq)"
   ]
  },
  {
   "cell_type": "code",
   "execution_count": 36,
   "metadata": {},
   "outputs": [],
   "source": [
    "from sklearn.linear_model import SGDClassifier\n",
    "from sklearn.pipeline import Pipeline\n",
    "text_clf = Pipeline([('vect', CountVectorizer()),\n",
    "                     ('tfidf', TfidfTransformer()),\n",
    "                     ('clf', SGDClassifier(loss='hinge', penalty='l2',\n",
    "                                           alpha=1e-3, n_iter=5, random_state=42)),\n",
    "])"
   ]
  },
  {
   "cell_type": "code",
   "execution_count": 37,
   "metadata": {
    "collapsed": true
   },
   "outputs": [],
   "source": [
    "# training\n",
    "text_clf = text_clf.fit(x_commands, y_target)"
   ]
  },
  {
   "cell_type": "code",
   "execution_count": 42,
   "metadata": {},
   "outputs": [
    {
     "data": {
      "text/plain": [
       "array([1])"
      ]
     },
     "execution_count": 42,
     "metadata": {},
     "output_type": "execute_result"
    }
   ],
   "source": [
    "# test\n",
    "test_set = ['funny']\n",
    "text_clf.predict(test_set)"
   ]
  }
 ],
 "metadata": {
  "kernelspec": {
   "display_name": "Python 2",
   "language": "python",
   "name": "python2"
  },
  "language_info": {
   "codemirror_mode": {
    "name": "ipython",
    "version": 2
   },
   "file_extension": ".py",
   "mimetype": "text/x-python",
   "name": "python",
   "nbconvert_exporter": "python",
   "pygments_lexer": "ipython2",
   "version": "2.7.12"
  }
 },
 "nbformat": 4,
 "nbformat_minor": 2
}
