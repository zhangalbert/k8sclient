{
 "cells": [
  {
   "cell_type": "markdown",
   "metadata": {},
   "source": [
    "# Play with k8s cluster using python\n",
    "\n",
    "- __Installation__\n",
    "  * pip\n",
    "  * kubernetes\n",
    "  * pandas (Only needed for cluster data analysis)\n",
    "  * k8sclient (wrapper for kubernetes)\n",
    "\n",
    "\n",
    "- __Collect cluster information and data analysis with pandas__\n",
    "  * setup\n",
    "  * pod\n",
    "  * node\n",
    "  * service\n",
    "  * etc.\n",
    " \n",
    "  \n",
    "- __Deploy pod/replicaset/service__\n",
    "  * pods, volume, service and etc.\n",
    "  * replicaset\n",
    "  * network connectivity test\n",
    "  * file system test (fio), network throughput (iperf), pod stress test and etc\n",
    "  * service search\n",
    "  * query api (hubot)"
   ]
  },
  {
   "cell_type": "markdown",
   "metadata": {},
   "source": [
    "## Installation\n",
    "#### [pip](https://pip.pypa.io/en/stable/installing/)\n",
    ">Be cautious if you're using a Python install that's managed by your operating system or another package manager. get-pip.py does not coordinate with those tools, and may leave your system in an inconsistent state.\n",
    ">To install pip via package manager, use package name python-pip\n",
    ">Python3 is recommented though, not sure thoes numpy/pandas package can work well with python3\n",
    "\n",
    "```shell\n",
    "wget https://bootstrap.pypa.io/get-pip.py\n",
    "python get-pip.py\n",
    "```\n",
    "\n",
    "#### [kubernetes](https://github.com/kubernetes-incubator/client-python/)\n",
    "```shell\n",
    "pip install kubernetes\n",
    "```\n",
    "> Usefully documentation links \n",
    "   * [auto generated docs](https://github.com/kubernetes-incubator/client-python/blob/master/kubernetes/README.md)\n",
    "   * [api references](https://kubernetes.io/docs/api-reference/v1.6/)\n",
    "\n",
    "\n",
    "#### [pandas](pandas.pydata.org/pandas-docs/stable/)\n",
    "```shell\n",
    "pip install pandas\n",
    "```\n",
    "\n",
    "#### k8sclient\n",
    "```shell\n",
    "git clone ssh://git@10.19.248.200:30884/DavidWang/k8sft.git\n",
    "cd k8sft && pip install -e .\n",
    "```"
   ]
  },
  {
   "cell_type": "markdown",
   "metadata": {},
   "source": [
    "## Collect cluster information\n",
    "\n",
    "### Setup"
   ]
  },
  {
   "cell_type": "code",
   "execution_count": null,
   "metadata": {
    "collapsed": true
   },
   "outputs": [],
   "source": [
    "%matplotlib inline\n",
    "import matplotlib.pyplot as plt\n",
    "import pandas as pd"
   ]
  },
  {
   "cell_type": "markdown",
   "metadata": {},
   "source": [
    "### Pod information"
   ]
  },
  {
   "cell_type": "markdown",
   "metadata": {},
   "source": [
    "#### all pods under specific namespace"
   ]
  },
  {
   "cell_type": "code",
   "execution_count": null,
   "metadata": {
    "collapsed": true,
    "scrolled": false
   },
   "outputs": [],
   "source": [
    "from k8sclient.dataframes import collect_namespaced_pods\n",
    "dfs = collect_namespaced_pods(\"4tools\")\n",
    "# dfs['pod']"
   ]
  },
  {
   "cell_type": "markdown",
   "metadata": {},
   "source": [
    "#### collect all pods information"
   ]
  },
  {
   "cell_type": "code",
   "execution_count": null,
   "metadata": {
    "collapsed": true,
    "scrolled": true
   },
   "outputs": [],
   "source": [
    "from k8sclient.dataframes import collect_all_pods\n",
    "pods = collect_all_pods()"
   ]
  },
  {
   "cell_type": "markdown",
   "metadata": {},
   "source": [
    "#### list abnormal pods"
   ]
  },
  {
   "cell_type": "code",
   "execution_count": null,
   "metadata": {
    "collapsed": true,
    "scrolled": false
   },
   "outputs": [],
   "source": [
    "container = pd.merge(pods['pod'], pods['container'], left_on=\"uid\", right_on=\"pod_id\")\n",
    "bads = container[(container['state'] != 'running') | (container['phase'] != 'Running')]\n",
    "bads[['namespace', 'pod', 'name', 'phase', 'state']]\n",
    "# c = bads.groupby(['namespace', \"phase\"]).size().reset_index().set_index([\"namespace\",\"phase\"])\n",
    "# c.columns = ['count']\n",
    "# c"
   ]
  },
  {
   "cell_type": "code",
   "execution_count": null,
   "metadata": {
    "collapsed": true
   },
   "outputs": [],
   "source": [
    "pods['pod'].columns\n",
    "# container[container.command.str.contains(\"exe\")]"
   ]
  },
  {
   "cell_type": "code",
   "execution_count": null,
   "metadata": {
    "collapsed": true,
    "scrolled": true
   },
   "outputs": [],
   "source": [
    "# list pod count using host-path\n",
    "v = pods['volume']\n",
    "hp = v[v.vtype == \"host_path\"].dropna(axis=1)\n",
    "hpp = pd.merge(pods['pod'], hp, left_on=\"uid\", right_on=\"pod_id\")\n",
    "hpp[[\"name\", \"path\", \"host_ip\", \"namespace\", \"pod\"]].groupby(\"namespace\").size().reset_index().set_index(\"namespace\")"
   ]
  },
  {
   "cell_type": "code",
   "execution_count": null,
   "metadata": {
    "collapsed": true,
    "scrolled": false
   },
   "outputs": [],
   "source": [
    "# found 0 limit pods\n",
    "container = pd.merge(pods['pod'], pods['container'], left_on=\"uid\", right_on=\"pod_id\")\n",
    "runnings = container[(container['state'] == 'running') & (container['phase'] == 'Running')]\n",
    "bads = runnings[(runnings.lmemory == 0) | (runnings.lcpu == 0)]\n",
    "pd.DataFrame({\"#pods without memory/cpu limit\": bads.groupby(\"namespace\").size()})"
   ]
  },
  {
   "cell_type": "code",
   "execution_count": null,
   "metadata": {
    "collapsed": true
   },
   "outputs": [],
   "source": [
    "# cpu request too much\n",
    "container = pd.merge(pods['pod'], pods['container'], left_on=\"uid\", right_on=\"pod_id\")\n",
    "runnings = container[(container['state'] == 'running') & (container['phase'] == 'Running')]\n",
    "bads = runnings[(runnings.rcpu > 1) ]\n",
    "bads[['namespace', \"pod\", 'rcpu', 'rmemory']].sort_values(by=\"rcpu\", ascending=False)"
   ]
  },
  {
   "cell_type": "markdown",
   "metadata": {},
   "source": [
    "#### simple plot"
   ]
  },
  {
   "cell_type": "code",
   "execution_count": null,
   "metadata": {
    "collapsed": true
   },
   "outputs": [],
   "source": [
    "bins = pods['pod'].groupby(['namespace']).size()\n",
    "bins.plot(kind=\"bar\", figsize=(20,10))\n"
   ]
  },
  {
   "cell_type": "code",
   "execution_count": null,
   "metadata": {
    "collapsed": true,
    "scrolled": false
   },
   "outputs": [],
   "source": [
    "# node resource request percentage\n",
    "container = pd.merge(pods['pod'], pods['container'], left_on=\"uid\", right_on=\"pod_id\")\n",
    "# runnings = container[(container['state'] == 'running') & (container['phase'] == 'Running')]\n",
    "runnings = container[(container['phase'] == 'Running')]\n",
    "res = runnings[[\"host_ip\", \"rcpu\", \"rmemory\",]]# \"lcpu\", \"lmemory\", \"pod\"]]\n",
    "# res.groupby('host_ip').sum().plot(kind='bar')\n",
    "# percentage\n",
    "a = res.groupby('host_ip').sum()\n",
    "from k8sclient.dataframes import collect_nodes\n",
    "nodes = collect_nodes().set_index(\"name\")[[\"a-cpu\", \"a-memory\"]]\n",
    "b = pd.concat([a, nodes], axis=1)\n",
    "b[\"cpu-percent\"] = b['rcpu']*100/b['a-cpu']\n",
    "b[\"memory-percent\"] = b['rmemory']*100/b['a-memory']\n",
    "b[['cpu-percent', \"memory-percent\"]].plot(kind='bar', figsize=(12,8))"
   ]
  },
  {
   "cell_type": "code",
   "execution_count": null,
   "metadata": {
    "collapsed": true
   },
   "outputs": [],
   "source": [
    "# find memory request -ill configured pods\n",
    "container = pd.merge(pods['pod'], pods['container'], left_on=\"uid\", right_on=\"pod_id\")\n",
    "runnings = container[(container['state'] == 'running') & (container['phase'] == 'Running')]\n",
    "bads = runnings[(runnings.rmemory > 64) | (runnings.lmemory > 64)]\n",
    "bads[['namespace', \"pod\", 'rmemory']]"
   ]
  },
  {
   "cell_type": "code",
   "execution_count": null,
   "metadata": {
    "collapsed": true,
    "scrolled": false
   },
   "outputs": [],
   "source": [
    "# plot running pod per node\n",
    "p = pods['pod']\n",
    "runnings = p[p['phase'] == 'Running']\n",
    "runnings.groupby('host_ip').size().plot(kind='bar')"
   ]
  },
  {
   "cell_type": "code",
   "execution_count": null,
   "metadata": {
    "collapsed": true
   },
   "outputs": [],
   "source": [
    "# plot running containers per node\n",
    "container = pd.merge(pods['pod'], pods['container'], left_on=\"uid\", right_on=\"pod_id\")\n",
    "runnings = container[(container['state'] == 'running') & (container['phase'] == 'Running')]\n",
    "runnings.groupby('host_ip').size().plot(kind='bar')"
   ]
  },
  {
   "cell_type": "markdown",
   "metadata": {},
   "source": [
    "### read pod logs"
   ]
  },
  {
   "cell_type": "code",
   "execution_count": null,
   "metadata": {
    "collapsed": true
   },
   "outputs": [],
   "source": [
    "from k8sclient.keywords import tail_pod_logs\n",
    "r = tail_pod_logs(\"monitor-essential-service\", \"elasticsearch-data-734v4\", lines=20)\n",
    "# r.strip().split(\"\\n\")\n",
    "print r"
   ]
  },
  {
   "cell_type": "markdown",
   "metadata": {},
   "source": [
    "### wait for pod complete"
   ]
  },
  {
   "cell_type": "code",
   "execution_count": null,
   "metadata": {
    "collapsed": true
   },
   "outputs": [],
   "source": [
    "from k8sclient.K8SClient import k8sclient\n",
    "r = k8sclient.get_pod_info(\"k8sft\", \"client-1\")\n",
    "print r.status.phase == \"Succeeded\""
   ]
  },
  {
   "cell_type": "markdown",
   "metadata": {},
   "source": [
    "### Node information"
   ]
  },
  {
   "cell_type": "code",
   "execution_count": null,
   "metadata": {
    "collapsed": true
   },
   "outputs": [],
   "source": [
    "from k8sclient.dataframes import collect_nodes\n",
    "nodes = collect_nodes()\n",
    "# nodes[[\"name\",\"a-cpu\", \"a-memory\", \"a-pods\", \"c-cpu\", \"c-memory\", \"purpose\", \"role\"]].set_index(\"name\")"
   ]
  },
  {
   "cell_type": "code",
   "execution_count": null,
   "metadata": {
    "collapsed": true
   },
   "outputs": [],
   "source": [
    "nodes[nodes.name=='10.19.248.43'].T"
   ]
  },
  {
   "cell_type": "code",
   "execution_count": null,
   "metadata": {
    "collapsed": true
   },
   "outputs": [],
   "source": [
    "n = nodes.set_index(\"name\")\n",
    "n[n.nvidiagpu > 0][[\"a-cpu\", \"a-memory\", \"a-pods\", \"addition\", \"nvidiagpu\"]]"
   ]
  },
  {
   "cell_type": "markdown",
   "metadata": {},
   "source": [
    "### Service information"
   ]
  },
  {
   "cell_type": "code",
   "execution_count": null,
   "metadata": {
    "collapsed": true,
    "scrolled": false
   },
   "outputs": [],
   "source": [
    "%matplotlib inline\n",
    "from k8sclient.dataframes import collect_services\n",
    "services, ports, eips = collect_services()\n",
    "services.groupby(\"type\").size().plot(kind=\"bar\")"
   ]
  },
  {
   "cell_type": "code",
   "execution_count": null,
   "metadata": {
    "collapsed": true,
    "scrolled": true
   },
   "outputs": [],
   "source": [
    "# check conflict external ip ports\n",
    "import pandas as pd\n",
    "external_ports = pd.merge(ports, eips)\n",
    "a = pd.merge(services, external_ports, left_on=\"uid\", right_on=\"service_id\")\n",
    "b = a[['namespace', \"name_x\", \"type\", \"port\", \"target_port\", \"external_ip\"]]\n",
    "c = b[[\"external_ip\", \"port\"]].duplicated(keep=False)\n",
    "b[c].set_index([\"external_ip\",\"port\"]).sort_index()"
   ]
  },
  {
   "cell_type": "code",
   "execution_count": null,
   "metadata": {
    "collapsed": true
   },
   "outputs": [],
   "source": [
    "# check conflict Nodeport ports\n",
    "import pandas as pd\n",
    "a = pd.merge(services, ports, left_on=\"uid\", right_on=\"service_id\")\n",
    "b = a[['namespace', \"name_x\", \"type\", \"node_port\", \"target_port\"]]\n",
    "c = b[\"node_port\"].duplicated(keep=False) & (b.node_port != \"None\")\n",
    "b[c].set_index([\"node_port\"]).sort_index()"
   ]
  },
  {
   "cell_type": "code",
   "execution_count": null,
   "metadata": {
    "collapsed": true
   },
   "outputs": [],
   "source": [
    "# check conflict between nodeport and external ip ports\n",
    "import pandas as pd\n",
    "external_ports = pd.merge(ports, eips)\n",
    "a = pd.merge(services, ports, left_on=\"uid\", right_on=\"service_id\")\n",
    "node_ports = a[a.type==\"NodePort\"][['namespace', \"name_x\", \"type\", \"node_port\", \"target_port\"]]\n",
    "pd.merge(node_ports, external_ports, left_on=\"node_port\", right_on=\"port\", how=\"outer\").dropna()\n",
    "# external_ports"
   ]
  },
  {
   "cell_type": "code",
   "execution_count": null,
   "metadata": {
    "collapsed": true,
    "scrolled": false
   },
   "outputs": [],
   "source": [
    "# plot per namespace\n",
    "%matplotlib inline\n",
    "services.groupby([\"namespace\", \"type\"]).size().unstack().fillna(0).plot(kind=\"bar\", figsize=(12,8))"
   ]
  },
  {
   "cell_type": "markdown",
   "metadata": {},
   "source": [
    "## Deployment"
   ]
  },
  {
   "cell_type": "markdown",
   "metadata": {},
   "source": [
    "### Create pod"
   ]
  },
  {
   "cell_type": "code",
   "execution_count": null,
   "metadata": {
    "collapsed": true
   },
   "outputs": [],
   "source": [
    "from k8sclient.Components import PodBuilder\n",
    "from k8sclient.keywords import (\n",
    "    wait_for_pod_state,\n",
    "    RUNNING,\n",
    "    delete_pod,\n",
    "    NOT_FOUND\n",
    ")"
   ]
  },
  {
   "cell_type": "code",
   "execution_count": null,
   "metadata": {
    "collapsed": true
   },
   "outputs": [],
   "source": [
    "namespace = \"monkey\"\n",
    "image = \"127.0.0.1:30100/library/python-tools:v20170619\"\n",
    "args = \"loggen.py\"\n",
    "node = \"10.19.137.151\"\n",
    "name = \"logstress\"\n",
    "\n",
    "\n",
    "def deploy():\n",
    "    PodBuilder(\n",
    "        name,\n",
    "        namespace,\n",
    "    ).add_container(\n",
    "        name,\n",
    "        image=image,\n",
    "        args=args,\n",
    "    ).deploy()\n",
    "    wait_for_pod_state(namespace, name, 60, RUNNING)\n",
    "\n",
    "\n",
    "def un_deploy():\n",
    "    delete_pod(namespace, name)\n",
    "    wait_for_pod_state(namespace, name, 60, NOT_FOUND)"
   ]
  },
  {
   "cell_type": "markdown",
   "metadata": {},
   "source": [
    "### Use volumes"
   ]
  },
  {
   "cell_type": "code",
   "execution_count": null,
   "metadata": {
    "collapsed": true
   },
   "outputs": [],
   "source": [
    "from k8sclient.Components import (\n",
    "    HostPathVolume, RBDVolume, CephFSVolume\n",
    ")\n",
    "volume_hostpath = HostPathVolume(\n",
    "        \"containers\",\n",
    "        \"/apt/containers\",\n",
    "        \"/data/docker/containers\"\n",
    "    )\n",
    "\n",
    "ceph_monitors = \"10.19.137.144:6789,10.19.137.145:6789,10.19.137.146:6789\"\n",
    "ceph_pool = \"monkey\"\n",
    "ceph_fstype = \"xfs\"\n",
    "ceph_secret = \"ceph-secret\"\n",
    "volume_rbd = RBDVolume(\n",
    "        \"rbd\",\n",
    "        \"/apt/data\",\n",
    "        fs_type=ceph_fstype,\n",
    "        image=\"default\",\n",
    "        pool=ceph_pool,\n",
    "        monitors=ceph_monitors,\n",
    "        secret_name=ceph_secret,\n",
    "        sub_path=\"writetest\",\n",
    "        read_only=True\n",
    "    )\n",
    "volume_cephfs = CephFSVolume(\n",
    "            \"cephfs\",\n",
    "            \"/tmp\",\n",
    "            monitors=ceph_monitors,\n",
    "            secret_name=ceph_secret,\n",
    "            fs_path=\"scrapy\",\n",
    "            sub_path=\"scrapy_name\"\n",
    "        )\n",
    "\n",
    "def deploy():\n",
    "    PodBuilder(\n",
    "        name,\n",
    "        namespace,\n",
    "    ).add_container(\n",
    "        name,\n",
    "        image=image,\n",
    "        args=args,\n",
    "        volumes=[volume_hostpath, volume_rbd, volume_cephfs]\n",
    "    ).deploy()"
   ]
  },
  {
   "cell_type": "markdown",
   "metadata": {},
   "source": [
    "### Use service"
   ]
  },
  {
   "cell_type": "code",
   "execution_count": null,
   "metadata": {
    "collapsed": true
   },
   "outputs": [],
   "source": [
    "from k8sclient.Components import ServicePort, ServiceBuilder\n",
    "\n",
    "udp_port = ServicePort(\"dataport\", 8125, 8125, protocol=\"UDP\")\n",
    "http_port = ServicePort(\"httpport\", 80, 80)\n",
    "udp_service = ServiceBuilder(\"graphite\", namespace).add_port(udp_port)\n",
    "http_service = ServiceBuilder(\"graphite-ui\", namespace, service_type=\"NodePort\").add_port(http_port)\n",
    "\n",
    "def deploy():\n",
    "    PodBuilder(\n",
    "        name,\n",
    "        namespace,\n",
    "    ).add_container(\n",
    "        name=name,\n",
    "        image=image,\n",
    "        ports=[udp_port, http_port]\n",
    "    ).attache_service(\n",
    "        udp_service\n",
    "    ).attach_service(\n",
    "        http_service\n",
    "    ).deploy()"
   ]
  },
  {
   "cell_type": "markdown",
   "metadata": {},
   "source": [
    "### Env variables"
   ]
  },
  {
   "cell_type": "code",
   "execution_count": null,
   "metadata": {
    "collapsed": true
   },
   "outputs": [],
   "source": [
    "def deploy():\n",
    "    PodBuilder(\n",
    "        name,\n",
    "        namespace,\n",
    "    ).add_container(\n",
    "        name,\n",
    "        image=image,\n",
    "        args=args,\n",
    "        BATCH_SIZE=10000,\n",
    "        BATCH_COUNT=1000\n",
    "    ).deploy()"
   ]
  },
  {
   "cell_type": "markdown",
   "metadata": {},
   "source": [
    "### Node select"
   ]
  },
  {
   "cell_type": "code",
   "execution_count": null,
   "metadata": {
    "collapsed": true
   },
   "outputs": [],
   "source": [
    "def deploy():\n",
    "    PodBuilder(\n",
    "        name,\n",
    "        namespace,\n",
    "    ).set_node(\n",
    "        node\n",
    "    ).add_container(\n",
    "        name,\n",
    "        image=image,\n",
    "        args=args,\n",
    "        BATCH_SIZE=10000,\n",
    "        BATCH_COUNT=1000\n",
    "    ).deploy()"
   ]
  },
  {
   "cell_type": "markdown",
   "metadata": {},
   "source": [
    "### Replicaset example"
   ]
  },
  {
   "cell_type": "code",
   "execution_count": null,
   "metadata": {
    "collapsed": true
   },
   "outputs": [],
   "source": [
    "from k8sclient.Components import ServicePort, ServiceBuilder, ReplicaSetBuilder\n",
    "\n",
    "namespace = \"k8sft\"\n",
    "name = \"graphite\"\n",
    "image = \"127.0.0.1:30100/yangtze/graphite-statsd\"\n",
    "# ports\n",
    "udp_port = ServicePort(\"dataport\", 8125, 8125, protocol=\"UDP\")\n",
    "http_port = ServicePort(\"httpport\", 80, 80)\n",
    "# service\n",
    "udp_service = ServiceBuilder(\"graphite\", namespace).add_port(udp_port)\n",
    "http_service = ServiceBuilder(\"graphite-ui\", namespace, service_type=\"NodePort\").add_port(http_port)\n",
    "# replica set\n",
    "rs = ReplicaSetBuilder(\n",
    "    name, namespace\n",
    ").add_container(\n",
    "    name=name + \"-container\",\n",
    "    image=image,\n",
    "    ports=[udp_port, http_port]\n",
    ").attache_service(\n",
    "    http_service\n",
    ").attache_service(\n",
    "    udp_service\n",
    ").set_hostname(name)\n",
    "\n",
    "\n",
    "def deploy():\n",
    "    rs.deploy()\n",
    "    udp_service.deploy()\n",
    "    http_service.deploy()\n",
    "\n",
    "\n",
    "def un_deploy():\n",
    "    udp_service.un_deploy()\n",
    "    http_service.un_deploy()\n",
    "    rs.un_deploy()"
   ]
  },
  {
   "cell_type": "markdown",
   "metadata": {},
   "source": [
    "### switch cluster"
   ]
  },
  {
   "cell_type": "code",
   "execution_count": null,
   "metadata": {
    "collapsed": true
   },
   "outputs": [],
   "source": [
    "from k8sclient.keywords import switch_cluster, register_cluster\n",
    "register_cluster(\"yancheng\", \"~/.kube/config-yancheng\")\n",
    "register_cluster(\"shanghai\", \"~/.kube/config-shanghai\")\n",
    "switch_cluster(\"yancheng\")"
   ]
  }
 ],
 "metadata": {
  "kernelspec": {
   "display_name": "Python 2",
   "language": "python",
   "name": "python2"
  },
  "language_info": {
   "codemirror_mode": {
    "name": "ipython",
    "version": 2
   },
   "file_extension": ".py",
   "mimetype": "text/x-python",
   "name": "python",
   "nbconvert_exporter": "python",
   "pygments_lexer": "ipython2",
   "version": "2.7.12"
  }
 },
 "nbformat": 4,
 "nbformat_minor": 2
}
